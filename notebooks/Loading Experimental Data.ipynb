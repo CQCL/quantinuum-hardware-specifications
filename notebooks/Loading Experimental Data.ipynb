{
 "cells": [
  {
   "attachments": {
    "Quantinuum%20Logos_primary_blue_small.svg": {
     "image/svg+xml": [
      "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"
     ]
    }
   },
   "cell_type": "markdown",
   "metadata": {},
   "source": [
    "![Quantinuum%20Logos_primary_blue_small.svg](attachment:Quantinuum%20Logos_primary_blue_small.svg)"
   ]
  },
  {
   "cell_type": "markdown",
   "metadata": {},
   "source": [
    "# Quantinuum Specification Data\n",
    "\n",
    "This notebook contains an overview of loading and analyzing experiments used to measure the Quantinuum Specification metrics, found in the *Quantinuum System Model H1 Product Data Sheet*.\n",
    "\n",
    "The data is collected from five experiments to measure the five metrics. Further details of each experiment are given below.\n",
    "1. Single-qubit randomized benchmarking (`'SQ_RB'`): Method to measure single-qubit gate errors. Similar to methods in Ref. [1].\n",
    "2. Two-qubit randomized benchmarking (`'TQ_RB'`): Method to measure two-qubit gate errors.  Similar to methods in Ref. [1].\n",
    "3. Memory randomized benchmarking (`'Memory_RB'`): Method to measure average depth-1 (random qubit pairing) memory errors\n",
    "4. Measurement decay (`'Bright_depump'`): Method to measure measurement crosstalk errors (errors due to measurement of neighboring qubits). Method is described in Ref. [2].\n",
    "5. State preperation and measruement (`'SPAM'`): Method to measure state preparation and measurement errors.\n",
    "\n",
    "**References** <br>\n",
    "[1] E. Magesan et al. Phys. Rev. A 85, 042311 (2012) <br>\n",
    "[2] J. P. Gaebler et al. Phys. Rev. A 104, 062440 (2021) <br>"
   ]
  },
  {
   "cell_type": "markdown",
   "metadata": {},
   "source": [
    "## Loading data\n",
    "\n",
    "Each data file is saved as a dictionary in a json file with five keys:\n",
    "- `survival`: nested dictionary of correct output counts for different qubits, lengths, and repetitions\n",
    "- `expected_output`: nested dictionary of expected output string for different qubits, lengths, and repetitions\n",
    "- `sequence_info`: dictionary with keys=length, values=number of repetitions\n",
    "- `qasm`: dictionary with keys=`'length, rep index'` and value=qasm run on machine\n",
    "- `raw data`: dictionary with same keys as above with list outputs strings from each shot of the experiment\n",
    "- `shots`: number of shots for each circuit\n",
    "\n",
    "Available datasets:\n",
    "- `'H1-1/2022_06_09'`\n",
    "- `'H1-2/2022_06_09'`"
   ]
  },
  {
   "cell_type": "code",
   "execution_count": 1,
   "metadata": {},
   "outputs": [],
   "source": [
    "machine = 'H1-1'\n",
    "date = '2022_06_09'"
   ]
  },
  {
   "cell_type": "markdown",
   "metadata": {},
   "source": [
    "## Loading RB data\n",
    "\n",
    "The following experiments are analyzed with randomized benchmarking (RB) methods:\n",
    "\n",
    "- `'SQ_RB'`: Single-qubit RB with random single-qubit Clifford gates done in parallel with two qubits in each active gate zone\n",
    "- `'TQ_RB'`: Two-qubit RB with random two-qubit Clifford gates done in parallel two qubits in each active gate zone\n",
    "- `'Memory_RB'`: Single-qubit RB done in parallel across all available qubits in the trap and interleaved with random transport. The random transport is induced by using conditional two-qubit gates between random pairs of qubits and setting the condition to always fail. An additional delay is included after each failed conditional gate to simulate the time required for ion cooling."
   ]
  },
  {
   "cell_type": "code",
   "execution_count": 2,
   "metadata": {},
   "outputs": [],
   "source": [
    "import pathlib\n",
    "import json\n",
    "\n",
    "rb_type = 'SQ_RB'  # options: 'SQ_RB', 'TQ_RB', 'Memory_RB'\n",
    "\n",
    "file_name = f'{machine}/{date}/{rb_type}.json'\n",
    "data_dir = pathlib.Path.cwd().parent.joinpath('data')\n",
    "\n",
    "with open(data_dir.joinpath(file_name), 'r') as f:\n",
    "    data = json.load(f)"
   ]
  },
  {
   "cell_type": "markdown",
   "metadata": {},
   "source": [
    "Each data file is analyzed with `rb_analysis()` function to output the estimated fidelity of the gates."
   ]
  },
  {
   "cell_type": "code",
   "execution_count": 3,
   "metadata": {},
   "outputs": [],
   "source": [
    "from qtm_spec.rb_analysis_functions import rb_analysis\n",
    "\n",
    "fid_info, boot_info = rb_analysis(data_dir, machine, date, rb_type)"
   ]
  },
  {
   "cell_type": "markdown",
   "metadata": {},
   "source": [
    "### Report Table\n",
    "\n",
    "The table contains RB intercept and avg fidelity estimations with uncertainty from semi-parametric bootstrap resampling and basic bootstrap one-sigma confidence intervals. \n",
    "\n",
    "IMPORTANT NOTE: The RB intercept in the table below comes from the fit to the RB decay curve. For `'SQ_RB'` it is close to the SPAM metric discussed below but for `'TQ_RB'` it will be much larger since it contains error from one two-qubit Clifford gate."
   ]
  },
  {
   "cell_type": "code",
   "execution_count": 4,
   "metadata": {},
   "outputs": [
    {
     "data": {
      "text/html": [
       "<div>\n",
       "<style scoped>\n",
       "    .dataframe tbody tr th:only-of-type {\n",
       "        vertical-align: middle;\n",
       "    }\n",
       "\n",
       "    .dataframe tbody tr th {\n",
       "        vertical-align: top;\n",
       "    }\n",
       "\n",
       "    .dataframe thead th {\n",
       "        text-align: right;\n",
       "    }\n",
       "</style>\n",
       "<table border=\"1\" class=\"dataframe\">\n",
       "  <thead>\n",
       "    <tr style=\"text-align: right;\">\n",
       "      <th></th>\n",
       "      <th>Avg. infidelity</th>\n",
       "      <th>Avg. infidelity uncertainty</th>\n",
       "      <th>RB intercept</th>\n",
       "      <th>RB intercept uncertainty</th>\n",
       "    </tr>\n",
       "  </thead>\n",
       "  <tbody>\n",
       "    <tr>\n",
       "      <th>G1-left</th>\n",
       "      <td>5.293E-05</td>\n",
       "      <td>1.276E-05</td>\n",
       "      <td>6.046E-03</td>\n",
       "      <td>1.724E-03</td>\n",
       "    </tr>\n",
       "    <tr>\n",
       "      <th>G1-right</th>\n",
       "      <td>9.830E-05</td>\n",
       "      <td>2.279E-05</td>\n",
       "      <td>3.536E-03</td>\n",
       "      <td>2.081E-03</td>\n",
       "    </tr>\n",
       "    <tr>\n",
       "      <th>G2-left</th>\n",
       "      <td>2.466E-05</td>\n",
       "      <td>7.414E-06</td>\n",
       "      <td>2.406E-03</td>\n",
       "      <td>1.044E-03</td>\n",
       "    </tr>\n",
       "    <tr>\n",
       "      <th>G2-right</th>\n",
       "      <td>1.313E-05</td>\n",
       "      <td>6.386E-06</td>\n",
       "      <td>3.482E-03</td>\n",
       "      <td>1.075E-03</td>\n",
       "    </tr>\n",
       "    <tr>\n",
       "      <th>G3-left</th>\n",
       "      <td>2.631E-05</td>\n",
       "      <td>7.672E-06</td>\n",
       "      <td>2.302E-03</td>\n",
       "      <td>1.042E-03</td>\n",
       "    </tr>\n",
       "    <tr>\n",
       "      <th>G3-right</th>\n",
       "      <td>2.292E-05</td>\n",
       "      <td>6.456E-06</td>\n",
       "      <td>2.024E-03</td>\n",
       "      <td>8.644E-04</td>\n",
       "    </tr>\n",
       "    <tr>\n",
       "      <th>G4-left</th>\n",
       "      <td>5.340E-05</td>\n",
       "      <td>1.191E-05</td>\n",
       "      <td>1.643E-03</td>\n",
       "      <td>1.200E-03</td>\n",
       "    </tr>\n",
       "    <tr>\n",
       "      <th>G4-right</th>\n",
       "      <td>3.955E-05</td>\n",
       "      <td>1.018E-05</td>\n",
       "      <td>4.334E-03</td>\n",
       "      <td>1.369E-03</td>\n",
       "    </tr>\n",
       "    <tr>\n",
       "      <th>G5-left</th>\n",
       "      <td>2.951E-05</td>\n",
       "      <td>7.448E-06</td>\n",
       "      <td>3.035E-03</td>\n",
       "      <td>1.057E-03</td>\n",
       "    </tr>\n",
       "    <tr>\n",
       "      <th>G5-right</th>\n",
       "      <td>2.332E-05</td>\n",
       "      <td>7.099E-06</td>\n",
       "      <td>4.476E-03</td>\n",
       "      <td>1.257E-03</td>\n",
       "    </tr>\n",
       "    <tr>\n",
       "      <th>Mean</th>\n",
       "      <td>3.840E-05</td>\n",
       "      <td>1.590E-06</td>\n",
       "      <td>3.328E-03</td>\n",
       "      <td>1.169E-04</td>\n",
       "    </tr>\n",
       "  </tbody>\n",
       "</table>\n",
       "</div>"
      ],
      "text/plain": [
       "          Avg. infidelity  Avg. infidelity uncertainty  RB intercept  \\\n",
       "G1-left         5.293E-05                    1.276E-05     6.046E-03   \n",
       "G1-right        9.830E-05                    2.279E-05     3.536E-03   \n",
       "G2-left         2.466E-05                    7.414E-06     2.406E-03   \n",
       "G2-right        1.313E-05                    6.386E-06     3.482E-03   \n",
       "G3-left         2.631E-05                    7.672E-06     2.302E-03   \n",
       "G3-right        2.292E-05                    6.456E-06     2.024E-03   \n",
       "G4-left         5.340E-05                    1.191E-05     1.643E-03   \n",
       "G4-right        3.955E-05                    1.018E-05     4.334E-03   \n",
       "G5-left         2.951E-05                    7.448E-06     3.035E-03   \n",
       "G5-right        2.332E-05                    7.099E-06     4.476E-03   \n",
       "Mean            3.840E-05                    1.590E-06     3.328E-03   \n",
       "\n",
       "          RB intercept uncertainty  \n",
       "G1-left                  1.724E-03  \n",
       "G1-right                 2.081E-03  \n",
       "G2-left                  1.044E-03  \n",
       "G2-right                 1.075E-03  \n",
       "G3-left                  1.042E-03  \n",
       "G3-right                 8.644E-04  \n",
       "G4-left                  1.200E-03  \n",
       "G4-right                 1.369E-03  \n",
       "G5-left                  1.057E-03  \n",
       "G5-right                 1.257E-03  \n",
       "Mean                     1.169E-04  "
      ]
     },
     "execution_count": 4,
     "metadata": {},
     "output_type": "execute_result"
    }
   ],
   "source": [
    "from qtm_spec.rb_reporting_functions import report\n",
    "\n",
    "report(fid_info, boot_info, machine)"
   ]
  },
  {
   "cell_type": "markdown",
   "metadata": {},
   "source": [
    "### Plotting results"
   ]
  },
  {
   "cell_type": "code",
   "execution_count": 5,
   "metadata": {},
   "outputs": [
    {
     "data": {
      "image/png": "[encoded data removed]",
      "text/plain": [
       "<Figure size 432x288 with 1 Axes>"
      ]
     },
     "metadata": {
      "needs_background": "light"
     },
     "output_type": "display_data"
    }
   ],
   "source": [
    "from qtm_spec.rb_reporting_functions import errorbar_plot\n",
    "\n",
    "errorbar_plot(fid_info, data, machine)"
   ]
  },
  {
   "cell_type": "markdown",
   "metadata": {},
   "source": [
    "## Loading bright decay datasets\n",
    "\n",
    "Measurement crosstalk errors are extracted by bright state depumping experiments, which measure the rate that bright state population is depumped by measurement on neighboring qubits. The experiment is repeated for qubits on each side of the gate zones."
   ]
  },
  {
   "cell_type": "code",
   "execution_count": 6,
   "metadata": {},
   "outputs": [],
   "source": [
    "import pathlib\n",
    "import json\n",
    "\n",
    "experiment = 'Bright_depump'\n",
    "file_name = f'{machine}/{date}/{experiment}.json'\n",
    "\n",
    "data_dir = pathlib.Path.cwd().parent.joinpath('data')\n",
    "\n",
    "with open(data_dir.joinpath(file_name), 'r') as f:\n",
    "    data = json.load(f)"
   ]
  },
  {
   "cell_type": "code",
   "execution_count": 7,
   "metadata": {},
   "outputs": [
    {
     "name": "stderr",
     "output_type": "stream",
     "text": [
      "/Users/H266496/opt/anaconda3/envs/qenv/lib/python3.9/site-packages/scipy/optimize/minpack.py:828: OptimizeWarning: Covariance of the parameters could not be estimated\n",
      "  warnings.warn('Covariance of the parameters could not be estimated',\n"
     ]
    }
   ],
   "source": [
    "from qtm_spec.decay_analysis_functions import decay_analysis\n",
    "\n",
    "fid_info, boot_info = decay_analysis(data_dir, machine, date, experiment)"
   ]
  },
  {
   "cell_type": "markdown",
   "metadata": {},
   "source": [
    "### Report table\n",
    "\n",
    "The table contains Decay intercept and avg infidelity estimates for measurement crosstalk errors. Uncertainty is calculated with a parametric bootstrap resampling and basic bootstrap one-sigma confidence interval.\n",
    "\n",
    "IMPORTANT NOTE: The Decay intercept in the table below comes from the fit to the bright state depumping decay curve. It is close to the SPAM metric discussed below."
   ]
  },
  {
   "cell_type": "code",
   "execution_count": 8,
   "metadata": {},
   "outputs": [
    {
     "data": {
      "text/html": [
       "<div>\n",
       "<style scoped>\n",
       "    .dataframe tbody tr th:only-of-type {\n",
       "        vertical-align: middle;\n",
       "    }\n",
       "\n",
       "    .dataframe tbody tr th {\n",
       "        vertical-align: top;\n",
       "    }\n",
       "\n",
       "    .dataframe thead th {\n",
       "        text-align: right;\n",
       "    }\n",
       "</style>\n",
       "<table border=\"1\" class=\"dataframe\">\n",
       "  <thead>\n",
       "    <tr style=\"text-align: right;\">\n",
       "      <th></th>\n",
       "      <th>Avg. infidelity</th>\n",
       "      <th>Avg. infidelity uncertainty</th>\n",
       "      <th>Decay intercept</th>\n",
       "      <th>Decay intercept uncertainty</th>\n",
       "    </tr>\n",
       "  </thead>\n",
       "  <tbody>\n",
       "    <tr>\n",
       "      <th>G1-left</th>\n",
       "      <td>5.869E-06</td>\n",
       "      <td>4.189E-06</td>\n",
       "      <td>1.598E-03</td>\n",
       "      <td>1.001E-03</td>\n",
       "    </tr>\n",
       "    <tr>\n",
       "      <th>G1-right</th>\n",
       "      <td>1.597E-05</td>\n",
       "      <td>5.466E-06</td>\n",
       "      <td>9.917E-04</td>\n",
       "      <td>1.099E-03</td>\n",
       "    </tr>\n",
       "    <tr>\n",
       "      <th>G2-left</th>\n",
       "      <td>2.509E-06</td>\n",
       "      <td>2.924E-06</td>\n",
       "      <td>9.994E-04</td>\n",
       "      <td>8.000E-04</td>\n",
       "    </tr>\n",
       "    <tr>\n",
       "      <th>G2-right</th>\n",
       "      <td>3.282E-05</td>\n",
       "      <td>7.977E-06</td>\n",
       "      <td>-2.099E-04</td>\n",
       "      <td>1.394E-03</td>\n",
       "    </tr>\n",
       "    <tr>\n",
       "      <th>G3-left</th>\n",
       "      <td>4.187E-06</td>\n",
       "      <td>2.943E-06</td>\n",
       "      <td>1.199E-03</td>\n",
       "      <td>7.999E-04</td>\n",
       "    </tr>\n",
       "    <tr>\n",
       "      <th>G3-right</th>\n",
       "      <td>1.508E-05</td>\n",
       "      <td>5.028E-06</td>\n",
       "      <td>-3.781E-06</td>\n",
       "      <td>8.992E-04</td>\n",
       "    </tr>\n",
       "    <tr>\n",
       "      <th>G4-left</th>\n",
       "      <td>5.859E-06</td>\n",
       "      <td>5.045E-06</td>\n",
       "      <td>1.801E-03</td>\n",
       "      <td>1.400E-03</td>\n",
       "    </tr>\n",
       "    <tr>\n",
       "      <th>G4-right</th>\n",
       "      <td>1.094E-05</td>\n",
       "      <td>5.086E-06</td>\n",
       "      <td>2.395E-03</td>\n",
       "      <td>1.205E-03</td>\n",
       "    </tr>\n",
       "    <tr>\n",
       "      <th>G5-left</th>\n",
       "      <td>3.036E-05</td>\n",
       "      <td>7.906E-06</td>\n",
       "      <td>9.870E-04</td>\n",
       "      <td>1.480E-03</td>\n",
       "    </tr>\n",
       "    <tr>\n",
       "      <th>G5-right</th>\n",
       "      <td>-3.354E-06</td>\n",
       "      <td>4.192E-06</td>\n",
       "      <td>3.400E-03</td>\n",
       "      <td>1.400E-03</td>\n",
       "    </tr>\n",
       "    <tr>\n",
       "      <th>Mean</th>\n",
       "      <td>1.202E-05</td>\n",
       "      <td>5.511E-07</td>\n",
       "      <td>1.316E-03</td>\n",
       "      <td>8.359E-05</td>\n",
       "    </tr>\n",
       "  </tbody>\n",
       "</table>\n",
       "</div>"
      ],
      "text/plain": [
       "          Avg. infidelity  Avg. infidelity uncertainty  Decay intercept  \\\n",
       "G1-left         5.869E-06                    4.189E-06        1.598E-03   \n",
       "G1-right        1.597E-05                    5.466E-06        9.917E-04   \n",
       "G2-left         2.509E-06                    2.924E-06        9.994E-04   \n",
       "G2-right        3.282E-05                    7.977E-06       -2.099E-04   \n",
       "G3-left         4.187E-06                    2.943E-06        1.199E-03   \n",
       "G3-right        1.508E-05                    5.028E-06       -3.781E-06   \n",
       "G4-left         5.859E-06                    5.045E-06        1.801E-03   \n",
       "G4-right        1.094E-05                    5.086E-06        2.395E-03   \n",
       "G5-left         3.036E-05                    7.906E-06        9.870E-04   \n",
       "G5-right       -3.354E-06                    4.192E-06        3.400E-03   \n",
       "Mean            1.202E-05                    5.511E-07        1.316E-03   \n",
       "\n",
       "          Decay intercept uncertainty  \n",
       "G1-left                     1.001E-03  \n",
       "G1-right                    1.099E-03  \n",
       "G2-left                     8.000E-04  \n",
       "G2-right                    1.394E-03  \n",
       "G3-left                     7.999E-04  \n",
       "G3-right                    8.992E-04  \n",
       "G4-left                     1.400E-03  \n",
       "G4-right                    1.205E-03  \n",
       "G5-left                     1.480E-03  \n",
       "G5-right                    1.400E-03  \n",
       "Mean                        8.359E-05  "
      ]
     },
     "execution_count": 8,
     "metadata": {},
     "output_type": "execute_result"
    }
   ],
   "source": [
    "from qtm_spec.decay_reporting_functions import report\n",
    "\n",
    "report(fid_info, boot_info, machine)"
   ]
  },
  {
   "cell_type": "markdown",
   "metadata": {},
   "source": [
    "### Plot decay"
   ]
  },
  {
   "cell_type": "code",
   "execution_count": 9,
   "metadata": {},
   "outputs": [
    {
     "data": {
      "image/png": "[encoded data removed]",
      "text/plain": [
       "<Figure size 432x288 with 1 Axes>"
      ]
     },
     "metadata": {
      "needs_background": "light"
     },
     "output_type": "display_data"
    }
   ],
   "source": [
    "from qtm_spec.decay_reporting_functions import errorbar_plot\n",
    "\n",
    "errorbar_plot(fid_info, data_dir, machine, date, experiment)"
   ]
  },
  {
   "cell_type": "markdown",
   "metadata": {},
   "source": [
    "## Loading SPAM data\n",
    "\n",
    "The SPAM dataset is a single file with all bright and all dark detections for two ions per active gate zone."
   ]
  },
  {
   "cell_type": "code",
   "execution_count": 10,
   "metadata": {},
   "outputs": [],
   "source": [
    "import pathlib\n",
    "import json\n",
    "\n",
    "experiment = 'SPAM'\n",
    "file_name = f'{machine}/{date}/{experiment}.json'\n",
    "\n",
    "data_dir = pathlib.Path.cwd().parent.joinpath('data')\n",
    "\n",
    "with open(data_dir.joinpath(file_name), 'r') as f:\n",
    "    data = json.load(f)"
   ]
  },
  {
   "cell_type": "markdown",
   "metadata": {},
   "source": [
    "### Report table\n",
    "\n",
    "The table contains the 0 and 1 state success frequency and the Avg SPAM across both states. Uncertainty is calculated by binomial standard deviation."
   ]
  },
  {
   "cell_type": "code",
   "execution_count": 11,
   "metadata": {},
   "outputs": [
    {
     "data": {
      "text/html": [
       "<div>\n",
       "<style scoped>\n",
       "    .dataframe tbody tr th:only-of-type {\n",
       "        vertical-align: middle;\n",
       "    }\n",
       "\n",
       "    .dataframe tbody tr th {\n",
       "        vertical-align: top;\n",
       "    }\n",
       "\n",
       "    .dataframe thead th {\n",
       "        text-align: right;\n",
       "    }\n",
       "</style>\n",
       "<table border=\"1\" class=\"dataframe\">\n",
       "  <thead>\n",
       "    <tr style=\"text-align: right;\">\n",
       "      <th></th>\n",
       "      <th>Avg. SPAM error</th>\n",
       "      <th>Avg. SPAM error uncertainty</th>\n",
       "      <th>0 SPAM error</th>\n",
       "      <th>1 SPAM error</th>\n",
       "    </tr>\n",
       "  </thead>\n",
       "  <tbody>\n",
       "    <tr>\n",
       "      <th>G1-left</th>\n",
       "      <td>3.050E-03</td>\n",
       "      <td>3.898E-04</td>\n",
       "      <td>4.300E-03</td>\n",
       "      <td>1.800E-03</td>\n",
       "    </tr>\n",
       "    <tr>\n",
       "      <th>G1-right</th>\n",
       "      <td>3.300E-03</td>\n",
       "      <td>4.053E-04</td>\n",
       "      <td>5.100E-03</td>\n",
       "      <td>1.500E-03</td>\n",
       "    </tr>\n",
       "    <tr>\n",
       "      <th>G2-left</th>\n",
       "      <td>2.400E-03</td>\n",
       "      <td>3.458E-04</td>\n",
       "      <td>4.100E-03</td>\n",
       "      <td>7.000E-04</td>\n",
       "    </tr>\n",
       "    <tr>\n",
       "      <th>G2-right</th>\n",
       "      <td>3.200E-03</td>\n",
       "      <td>3.991E-04</td>\n",
       "      <td>5.400E-03</td>\n",
       "      <td>1.000E-03</td>\n",
       "    </tr>\n",
       "    <tr>\n",
       "      <th>G3-left</th>\n",
       "      <td>2.150E-03</td>\n",
       "      <td>3.274E-04</td>\n",
       "      <td>3.600E-03</td>\n",
       "      <td>7.000E-04</td>\n",
       "    </tr>\n",
       "    <tr>\n",
       "      <th>G3-right</th>\n",
       "      <td>2.350E-03</td>\n",
       "      <td>3.422E-04</td>\n",
       "      <td>3.900E-03</td>\n",
       "      <td>8.000E-04</td>\n",
       "    </tr>\n",
       "    <tr>\n",
       "      <th>G4-left</th>\n",
       "      <td>2.600E-03</td>\n",
       "      <td>3.599E-04</td>\n",
       "      <td>4.100E-03</td>\n",
       "      <td>1.100E-03</td>\n",
       "    </tr>\n",
       "    <tr>\n",
       "      <th>G4-right</th>\n",
       "      <td>2.700E-03</td>\n",
       "      <td>3.667E-04</td>\n",
       "      <td>4.500E-03</td>\n",
       "      <td>9.000E-04</td>\n",
       "    </tr>\n",
       "    <tr>\n",
       "      <th>G5-left</th>\n",
       "      <td>2.750E-03</td>\n",
       "      <td>3.703E-04</td>\n",
       "      <td>3.000E-03</td>\n",
       "      <td>2.500E-03</td>\n",
       "    </tr>\n",
       "    <tr>\n",
       "      <th>G5-right</th>\n",
       "      <td>3.150E-03</td>\n",
       "      <td>3.962E-04</td>\n",
       "      <td>4.300E-03</td>\n",
       "      <td>2.000E-03</td>\n",
       "    </tr>\n",
       "    <tr>\n",
       "      <th>Mean</th>\n",
       "      <td>2.765E-03</td>\n",
       "      <td>8.471E-06</td>\n",
       "      <td>4.230E-03</td>\n",
       "      <td>1.300E-03</td>\n",
       "    </tr>\n",
       "  </tbody>\n",
       "</table>\n",
       "</div>"
      ],
      "text/plain": [
       "          Avg. SPAM error  Avg. SPAM error uncertainty  0 SPAM error  \\\n",
       "G1-left         3.050E-03                    3.898E-04     4.300E-03   \n",
       "G1-right        3.300E-03                    4.053E-04     5.100E-03   \n",
       "G2-left         2.400E-03                    3.458E-04     4.100E-03   \n",
       "G2-right        3.200E-03                    3.991E-04     5.400E-03   \n",
       "G3-left         2.150E-03                    3.274E-04     3.600E-03   \n",
       "G3-right        2.350E-03                    3.422E-04     3.900E-03   \n",
       "G4-left         2.600E-03                    3.599E-04     4.100E-03   \n",
       "G4-right        2.700E-03                    3.667E-04     4.500E-03   \n",
       "G5-left         2.750E-03                    3.703E-04     3.000E-03   \n",
       "G5-right        3.150E-03                    3.962E-04     4.300E-03   \n",
       "Mean            2.765E-03                    8.471E-06     4.230E-03   \n",
       "\n",
       "          1 SPAM error  \n",
       "G1-left      1.800E-03  \n",
       "G1-right     1.500E-03  \n",
       "G2-left      7.000E-04  \n",
       "G2-right     1.000E-03  \n",
       "G3-left      7.000E-04  \n",
       "G3-right     8.000E-04  \n",
       "G4-left      1.100E-03  \n",
       "G4-right     9.000E-04  \n",
       "G5-left      2.500E-03  \n",
       "G5-right     2.000E-03  \n",
       "Mean         1.300E-03  "
      ]
     },
     "execution_count": 11,
     "metadata": {},
     "output_type": "execute_result"
    }
   ],
   "source": [
    "from qtm_spec.spam_reporting_functions import report\n",
    "\n",
    "report(data_dir, machine, date, experiment)"
   ]
  },
  {
   "cell_type": "markdown",
   "metadata": {},
   "source": [
    "<div align=\"center\"> &copy; 2022 by Quantinuum. All Rights Reserved. </div>"
   ]
  }
 ],
 "metadata": {
  "interpreter": {
   "hash": "ac725718f098b0f1e32c8e1cf396232eb8f28ab6a94d5ddf7870447b8fb468bb"
  },
  "kernelspec": {
   "display_name": "Python 3 (ipykernel)",
   "language": "python",
   "name": "python3"
  },
  "language_info": {
   "codemirror_mode": {
    "name": "ipython",
    "version": 3
   },
   "file_extension": ".py",
   "mimetype": "text/x-python",
   "name": "python",
   "nbconvert_exporter": "python",
   "pygments_lexer": "ipython3",
   "version": "3.9.0"
  }
 },
 "nbformat": 4,
 "nbformat_minor": 2
}
